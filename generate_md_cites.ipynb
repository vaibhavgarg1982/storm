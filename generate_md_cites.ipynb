{
 "cells": [
  {
   "cell_type": "code",
   "execution_count": 7,
   "metadata": {},
   "outputs": [],
   "source": [
    "import os\n",
    "import pathlib\n",
    "import json\n",
    "\n",
    "folder_name = r\"gpt\\impact_of_prohibition_of_pornography_on_social_structures\"\n",
    "\n",
    "\n",
    "# get the file from results\\<folder_name> called storm_gen_article_polished.txt\n",
    "file_path = os.path.join(\"results\", folder_name, \"storm_gen_article_polished.txt\")\n",
    "with open(file_path, \"r\", encoding=\"cp1252\") as file:\n",
    "    text = file.read()\n",
    "\n",
    "\n",
    "cites = json.load(open(os.path.join(\"results\", folder_name, \"url_to_info.json\"), \"r\", encoding=\"utf-8\")).get(\n",
    "    \"url_to_unified_index\"\n",
    ")"
   ]
  },
  {
   "cell_type": "code",
   "execution_count": 8,
   "metadata": {},
   "outputs": [],
   "source": [
    "# replace all the \\n with a space space \\n\n",
    "text = text.replace(\"\\n\", \"  \\n\")\n",
    "cites = {v: k for k, v in cites.items()}\n",
    "cites = {k: v for k, v in sorted(cites.items(), key=lambda x: x[0], reverse=False)}\n",
    "cites\n",
    "\n",
    "# append the cites to the text one by one, as # References\n",
    "# like this:\n",
    "# 1 . url i.e. key. Value\n",
    "\n",
    "text = text + \"  \\n\\n# References\\n\\n\"\n",
    "for k, v in cites.items():\n",
    "    text = text + f\"{k}. {v}\\n\"\n",
    "\n",
    "# write the text to a new file, called folder_name + \"_with_cites.md\"\n",
    "file_path = os.path.join(\"results\", folder_name, \"final.md\")\n",
    "with open(file_path, \"w+\", encoding=\"cp1252\") as file:\n",
    "    file.write(text)"
   ]
  },
  {
   "cell_type": "code",
   "execution_count": 11,
   "metadata": {},
   "outputs": [
    {
     "data": {
      "text/plain": [
       "0"
      ]
     },
     "execution_count": 11,
     "metadata": {},
     "output_type": "execute_result"
    }
   ],
   "source": [
    "# generate a html file from the markdown file\n",
    "# pandoc test1.md -f markdown -t html -s -o test1.html\n",
    "# output path =\n",
    "# cmd = f\"pandoc {file_path} -f markdown -t html -s -o final.html\"\n",
    "# os.system(cmd)"
   ]
  },
  {
   "cell_type": "code",
   "execution_count": 13,
   "metadata": {},
   "outputs": [
    {
     "name": "stdout",
     "output_type": "stream",
     "text": [
      "\n",
      "[WARNING] results\\gpt\\impact_of_prohibition_of_pornography_on_social_structures\\final.md is not UTF-8 encoded: falling back to latin1.\n",
      "[WARNING] This document format requires a nonempty <title> element.\n",
      "  Defaulting to 'final' as the title.\n",
      "  To specify a title, use 'title' in metadata or --metadata title=\"...\".\n",
      "\n"
     ]
    }
   ],
   "source": [
    "import subprocess\n",
    "\n",
    "cmd = [\"pandoc\", file_path, \"-f\", \"markdown\", \"-t\", \"html\", \"-s\", \"-o\", r\"results\\\\\" + folder_name + r\"\\final.html\"]\n",
    "result = subprocess.run(cmd, capture_output=True, text=True)\n",
    "print(result.stdout)\n",
    "print(result.stderr)"
   ]
  },
  {
   "cell_type": "code",
   "execution_count": null,
   "metadata": {},
   "outputs": [],
   "source": []
  }
 ],
 "metadata": {
  "kernelspec": {
   "display_name": "storm",
   "language": "python",
   "name": "python3"
  },
  "language_info": {
   "codemirror_mode": {
    "name": "ipython",
    "version": 3
   },
   "file_extension": ".py",
   "mimetype": "text/x-python",
   "name": "python",
   "nbconvert_exporter": "python",
   "pygments_lexer": "ipython3",
   "version": "3.11.9"
  }
 },
 "nbformat": 4,
 "nbformat_minor": 2
}
